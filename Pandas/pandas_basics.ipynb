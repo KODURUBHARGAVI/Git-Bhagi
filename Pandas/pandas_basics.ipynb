{
 "cells": [
  {
   "cell_type": "code",
   "execution_count": null,
   "id": "3b628141",
   "metadata": {},
   "outputs": [],
   "source": [
    "import pandas as pd\n",
    "a = [1, 7, 2]\n",
    "myvar = pd.Series(a)\n",
    "print(myvar)\n",
    "print(type(myvar))"
   ]
  },
  {
   "cell_type": "code",
   "execution_count": null,
   "id": "6aea713f",
   "metadata": {},
   "outputs": [],
   "source": [
    "import pandas as pd\n",
    "a = [1, 7, 2]\n",
    "myvar = pd.Series(a, index=['a','b','c'])\n",
    "print(myvar)\n",
    "#Access by referring to label\n",
    "print(type(myvar['b'])) #type will be numpy array\n"
   ]
  },
  {
   "cell_type": "code",
   "execution_count": null,
   "id": "51f2010c",
   "metadata": {},
   "outputs": [],
   "source": [
    "#we can take a dictionary format and apply it to series\n",
    "my_dict={'day1': 'ATS', 'day2': 'MF', 'day3':'python'}\n",
    "my_table=pd.Series(my_dict)\n",
    "print(my_table, '\\n\\n')\n",
    "#we can create pandas with only keys & whatever keys you give, they'll be considered as series\n",
    "my_table1=pd.Series(my_dict,index=['day1','day2']) #\n",
    "print(my_table1)\n"
   ]
  },
  {
   "cell_type": "code",
   "execution_count": null,
   "id": "c91c544e",
   "metadata": {},
   "outputs": [],
   "source": [
    "'''Data sets in Pandas are usually multi-dimensional tables, called DataFrames.\n",
    "Series is like a column, a DataFrame is the whole table.\n",
    "A Pandas DataFrame is a 2 dimensional data structure, like a 2 dimensional array, or a table with rows and columns.'''\n",
    "dict_of_names={\n",
    "    'names' : ['first name', 'last name'],\n",
    "    'nicknames' : ['Bhargavi', 'koduru']\n",
    "}\n",
    "my_dataframe=pd.DataFrame(dict_of_names)\n",
    "print(my_dataframe,'\\n\\n')\n",
    "\n",
    "'''Pandas use the loc attribute to return one or more specified row(s)'''\n",
    "print(my_dataframe.loc[0]) ##gives pandas data series\n",
    "print(type(my_dataframe.loc[0]),'\\n\\n')\n",
    "print(my_dataframe.loc[[0,1]]) ##gives dataframe\n",
    "print(type(my_dataframe.loc[[0,1]]))\n",
    "\n"
   ]
  },
  {
   "cell_type": "code",
   "execution_count": null,
   "id": "f21027a4",
   "metadata": {},
   "outputs": [],
   "source": [
    "'''Data sets in Pandas are usually multi-dimensional tables, called DataFrames.\n",
    "Series is like a column, a DataFrame is the whole table.\n",
    "A Pandas DataFrame is a 2 dimensional data structure, like a 2 dimensional array, or a table with rows and columns.'''\n",
    "dict_of_names={\n",
    "    'names' : ['first name', 'last name'],\n",
    "    'nicknames' : ['Bhargavi', 'koduru']\n",
    "}\n",
    "my_dataframe=pd.DataFrame(dict_of_names, index=['a','b'])\n",
    "print(my_dataframe, '\\n\\n')\n",
    "\n",
    "'''Pandas use the loc attribute to return one or more specified row(s)'''\n",
    "print(my_dataframe.loc['a'], '\\n\\n')\n",
    "print(my_dataframe.loc[['a','b']])\n",
    "\n"
   ]
  },
  {
   "cell_type": "markdown",
   "id": "7414fdc3",
   "metadata": {},
   "source": [
    "A simple way to store big data sets is to use CSV files (comma separated files).\n",
    "\n",
    "CSV files contains plain text and is a well know format that can be read by everyone including Pandas.\n",
    "\n",
    "In our examples we will be using a CSV file called 'data.csv'.\n",
    "\n",
    "when we're runing our code through our system, then the any file mentioned should be in the current dir were python is running\n",
    "&& \n",
    "when we're running our code in jupiter notebook, then the file will be searched where ipynb file is saved\n"
   ]
  },
  {
   "cell_type": "code",
   "execution_count": null,
   "id": "9b49c6d9",
   "metadata": {},
   "outputs": [],
   "source": [
    "\n",
    "import pandas as pd\n",
    "df = pd.read_csv('data.csv')\n",
    "print(df)\n",
    "print(pd.options.display.max_rows)\n",
    "df.head()\n",
    "print('\\n\\n')\n",
    "df.info()\n",
    "print('\\n\\n')\n",
    "df.describe()"
   ]
  },
  {
   "cell_type": "markdown",
   "id": "9a1d07ea",
   "metadata": {},
   "source": [
    "If you have a large DataFrame with many rows, Pandas will only return the first 5 rows, and the last 5 rows\n",
    "max display rows can be changed pd.options.display.max_rows = 9999\n",
    "\n",
    "This shows the first 5 rows of your DataFrame — a quick preview\n",
    "df.head()"
   ]
  },
  {
   "cell_type": "code",
   "execution_count": null,
   "id": "10c05fee",
   "metadata": {},
   "outputs": [],
   "source": [
    "pd.options.display.max_rows = 9999\n",
    "print(pd.options.display.max_rows)\n",
    "print(df)\n",
    "df.head()"
   ]
  },
  {
   "cell_type": "code",
   "execution_count": null,
   "id": "6ca95758",
   "metadata": {},
   "outputs": [],
   "source": [
    "print('\\n\\n')\n",
    "df.info()\n",
    "print('\\n\\n')\n",
    "df.describe()"
   ]
  }
 ],
 "metadata": {
  "kernelspec": {
   "display_name": "base",
   "language": "python",
   "name": "python3"
  },
  "language_info": {
   "codemirror_mode": {
    "name": "ipython",
    "version": 3
   },
   "file_extension": ".py",
   "mimetype": "text/x-python",
   "name": "python",
   "nbconvert_exporter": "python",
   "pygments_lexer": "ipython3",
   "version": "3.13.5"
  }
 },
 "nbformat": 4,
 "nbformat_minor": 5
}
